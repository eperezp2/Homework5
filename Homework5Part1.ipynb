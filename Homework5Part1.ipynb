{
  "nbformat": 4,
  "nbformat_minor": 0,
  "metadata": {
    "colab": {
      "provenance": [],
      "include_colab_link": true
    },
    "kernelspec": {
      "name": "python3",
      "display_name": "Python 3"
    },
    "language_info": {
      "name": "python"
    }
  },
  "cells": [
    {
      "cell_type": "markdown",
      "metadata": {
        "id": "view-in-github",
        "colab_type": "text"
      },
      "source": [
        "<a href=\"https://colab.research.google.com/github/eperezp2/Homework5/blob/main/Homework5Part1.ipynb\" target=\"_parent\"><img src=\"https://colab.research.google.com/assets/colab-badge.svg\" alt=\"Open In Colab\"/></a>"
      ]
    },
    {
      "cell_type": "markdown",
      "source": [
        "# Homework 5\n",
        "\n",
        "*   Erick Perez Pereo\n",
        "\n"
      ],
      "metadata": {
        "id": "5sPR3g0sEko9"
      }
    },
    {
      "cell_type": "markdown",
      "source": [
        "# Problem 1\n",
        "\n",
        "* Problem 1 (30 pts):\n",
        "\n",
        "1. In our temperature prediction example, let’s change our model to a nonlinear system. Consider the following description for our model: w2 * t_u ** 2 + w1 * t_u + b.\n",
        "\n",
        "2. Modify the training loop properly to accommodate this redefinition.\n",
        "\n",
        "3.  Use 5000 epochs for your training. Explore different learning rates from 0.1 to 0.0001 (you need four separate trainings). Report your loss for every 500 epochs per training.\n",
        "\n",
        "4.  Pick the best non-linear model and compare your final best loss against the linear model that we did during the lecture. For this, visualize the non-linear model against the linear model over the input dataset, as we did during the lecture. Is the actual result better or worse than our baseline linear model?\n",
        "\n"
      ],
      "metadata": {
        "id": "VVMfmfdQ8PY9"
      }
    },
    {
      "cell_type": "code",
      "execution_count": 42,
      "metadata": {
        "id": "6GwrIDufQHvv"
      },
      "outputs": [],
      "source": [
        "# Torch Libraries\n",
        "import torch\n",
        "import torch.optim as optim\n",
        "\n",
        "import matplotlib.pyplot as plt\n",
        "import pandas as pd\n",
        "import numpy as np\n",
        "from sklearn.preprocessing import StandardScaler\n",
        "\n",
        "# X values\n",
        "t_u = [35.7, 55.9, 58.2, 81.9, 56.3, 48.9, 33.9, 21.8, 48.4, 60.4, 68.4]\n",
        "# Y values\n",
        "t_c = [0.5, 14.0, 15.0, 28.0, 11.0, 8.0, 3.0, -4.0, 6.0, 13.0, 21.0]\n"
      ]
    },
    {
      "cell_type": "markdown",
      "source": [
        "Def. for nonlinear model, loss, and training"
      ],
      "metadata": {
        "id": "vu4I9ymcEopB"
      }
    },
    {
      "cell_type": "code",
      "source": [
        "#def nonlinear\n",
        "def nonlinear_model(t_u, w2, w1, b):\n",
        "\n",
        "    t_c = w2*t_u**2 + w1*t_u + b\n",
        "    return t_c\n",
        "\n",
        "#def of loss\n",
        "def loss(t_p, t_c):\n",
        "\n",
        "    squared_diffs = (t_p - t_c)**2\n",
        "    return squared_diffs.mean()\n",
        "\n",
        "#def of training\n",
        "def nonlinear_training(epochs, optimizer, params, t_u_train, t_u_valid, t_c_train, t_c_valid):\n",
        "\n",
        "    for epoch in range(1, epochs+1):\n",
        "      t_p_train = nonlinear_model(t_u_train, *params)\n",
        "      train_loss = loss(t_p_train, t_c_train)\n",
        "\n",
        "      t_p_valid = nonlinear_model(t_u_valid, *params)\n",
        "      valid_loss = loss(t_p_valid, t_c_valid)\n",
        "\n",
        "      optimizer.zero_grad()\n",
        "      train_loss.backward()\n",
        "      optimizer.step()\n",
        "\n",
        "      if epoch % 500 == 0:\n",
        "        print(f'Epochs: {epoch}, \\tTraining Loss: {train_loss:.6f}, \\tValidation Loss: {valid_loss:.6f}\\n')\n",
        "\n",
        "    return params"
      ],
      "metadata": {
        "id": "JntyHh7lAJQo"
      },
      "execution_count": 43,
      "outputs": []
    },
    {
      "cell_type": "markdown",
      "source": [
        "Linear Optimization:"
      ],
      "metadata": {
        "id": "s0RugKV-W4Sy"
      }
    },
    {
      "cell_type": "code",
      "source": [
        "def linear_model1(t_u, w, b):\n",
        "  return w*t_u + b\n",
        "\n",
        "def linear_training1(epochs, optimizer, params, t_u_train, t_u_valid, t_c_train, t_c_valid):\n",
        "  for epoch in range(1, epochs+1):\n",
        "    t_p_train = linear_model1(t_u_train, *params)\n",
        "    train_loss = loss(t_p_train, t_c_train)\n",
        "\n",
        "    t_p_valid = linear_model1(t_u_valid, *params)\n",
        "    valid_loss = loss(t_p_valid, t_c_valid)\n",
        "\n",
        "    optimizer.zero_grad()\n",
        "    train_loss.backward()\n",
        "    optimizer.step()\n",
        "\n",
        "    if epoch % 500 == 0:\n",
        "        print(f'Epochs: {epoch}, \\tTraining Loss: {train_loss:.6f}, \\tValidation Loss: {valid_loss:.6f}\\n')\n",
        "\n",
        "  return params"
      ],
      "metadata": {
        "id": "7VdjUpwsW9W7"
      },
      "execution_count": 44,
      "outputs": []
    },
    {
      "cell_type": "markdown",
      "source": [
        "Declare Temperature Values"
      ],
      "metadata": {
        "id": "cYYQiBPrElDs"
      }
    },
    {
      "cell_type": "code",
      "source": [
        "t_u = torch.tensor(t_u)\n",
        "t_c = torch.tensor(t_c)"
      ],
      "metadata": {
        "id": "d6zq5sPN8iNd",
        "colab": {
          "base_uri": "https://localhost:8080/"
        },
        "outputId": "e077dd2b-e172-49e3-b574-7dd76f51fc09"
      },
      "execution_count": 51,
      "outputs": [
        {
          "output_type": "stream",
          "name": "stderr",
          "text": [
            "<ipython-input-51-16cd9232fe63>:1: UserWarning: To copy construct from a tensor, it is recommended to use sourceTensor.clone().detach() or sourceTensor.clone().detach().requires_grad_(True), rather than torch.tensor(sourceTensor).\n",
            "  t_u = torch.tensor(t_u)\n",
            "<ipython-input-51-16cd9232fe63>:2: UserWarning: To copy construct from a tensor, it is recommended to use sourceTensor.clone().detach() or sourceTensor.clone().detach().requires_grad_(True), rather than torch.tensor(sourceTensor).\n",
            "  t_c = torch.tensor(t_c)\n"
          ]
        }
      ]
    },
    {
      "cell_type": "markdown",
      "source": [
        "\n",
        "SGD and Adam Optimizers"
      ],
      "metadata": {
        "id": "XiGrlnYXE312"
      }
    },
    {
      "cell_type": "code",
      "source": [
        "# Pre-processing and normalizing data\n",
        "n_samples = t_u.shape[0]\n",
        "n_val = int(0.2 * n_samples)\n",
        "\n",
        "shuffled_indices = torch.randperm(n_samples)\n",
        "\n",
        "train_indices = shuffled_indices[:-n_val]\n",
        "val_indices = shuffled_indices[-n_val:]\n",
        "\n",
        "train_t_u = t_u[train_indices]\n",
        "train_t_c = t_c[train_indices]\n",
        "\n",
        "val_t_u = t_u[val_indices]\n",
        "val_t_c = t_c[val_indices]\n",
        "\n",
        "train_t_un = 0.1 * train_t_u\n",
        "val_t_un = 0.1 * val_t_u\n",
        "\n",
        "# Create models w/ diff learning gates 0.1 - 0.001\n",
        "learning_rates = [0.1, 0.01, 0.001, 0.0001]\n",
        "\n",
        "# SGD Optimizers w/ different learning rates\n",
        "print('SGD Optimizers:\\n')\n",
        "for rate in learning_rates:\n",
        "  params = torch.tensor([1.0, 1.0, 0.0], requires_grad=True)\n",
        "  optimizer = optim.SGD([params], lr = rate)\n",
        "  print(f'Learning rate of {rate}\\n')\n",
        "  nonlinear_training(epochs=5000, optimizer=optimizer, params=params, t_u_train=train_t_un, t_u_valid=val_t_un, t_c_train=train_t_c, t_c_valid=val_t_c)\n",
        "\n",
        "# Adam Optimizers w/ diff learning rates\n",
        "print('Adam Optimizers:\\n')\n",
        "for rate in learning_rates:\n",
        "  params = torch.tensor([1.0, 1.0, 0.0], requires_grad=True)\n",
        "  optimizer = optim.Adam([params], lr = rate)\n",
        "  print(f'Learning rates of {rate}\\n')\n",
        "  nonlinear_training(epochs=5000, optimizer=optimizer, params=params, t_u_train=train_t_un, t_u_valid=val_t_un, t_c_train=train_t_c, t_c_valid=val_t_c)\n",
        "\n",
        "# Nonlinear vs Linear Models in a Plot\n",
        "linear_params = torch.tensor([1.0, 0.0], requires_grad=True)\n",
        "nonlinear_params = torch.tensor([1.0, 1.0, 0.0], requires_grad=True)\n",
        "\n",
        "linear_optimizer = optim.SGD([linear_params], lr = 0.01)\n",
        "nonlinear_optimizer = optim.SGD([nonlinear_params], lr = 0.0001)\n",
        "\n",
        "linear = linear_training1(5000, linear_optimizer, linear_params, train_t_un, val_t_un, train_t_c, val_t_c)\n",
        "nonlinear = nonlinear_training(5000, nonlinear_optimizer, nonlinear_params, train_t_un, val_t_un, train_t_c, val_t_c)\n",
        "\n",
        "t_p_lin = linear_model1(t_u, *linear).detach().numpy()\n",
        "t_p_non = nonlinear_model(t_u, *nonlinear).detach().numpy()\n",
        "\n",
        "plt.scatter(t_u, t_c, label = 'Data points')\n",
        "plt.plot(t_u, t_p_lin)\n",
        "plt.plot(t_u, t_p_non)\n",
        "\n",
        "plt.legend()\n",
        "plt.show()"
      ],
      "metadata": {
        "colab": {
          "base_uri": "https://localhost:8080/",
          "height": 1000
        },
        "id": "sb6L1AU5E9dT",
        "outputId": "c1398248-93e3-4ccf-823d-8a4350c34259"
      },
      "execution_count": 52,
      "outputs": [
        {
          "output_type": "stream",
          "name": "stdout",
          "text": [
            "SGD Optimizers:\n",
            "\n",
            "Learning rate of 0.1\n",
            "\n",
            "Epochs: 500, \tTraining Loss: nan, \tValidation Loss: nan\n",
            "\n",
            "Epochs: 1000, \tTraining Loss: nan, \tValidation Loss: nan\n",
            "\n",
            "Epochs: 1500, \tTraining Loss: nan, \tValidation Loss: nan\n",
            "\n",
            "Epochs: 2000, \tTraining Loss: nan, \tValidation Loss: nan\n",
            "\n",
            "Epochs: 2500, \tTraining Loss: nan, \tValidation Loss: nan\n",
            "\n",
            "Epochs: 3000, \tTraining Loss: nan, \tValidation Loss: nan\n",
            "\n",
            "Epochs: 3500, \tTraining Loss: nan, \tValidation Loss: nan\n",
            "\n",
            "Epochs: 4000, \tTraining Loss: nan, \tValidation Loss: nan\n",
            "\n",
            "Epochs: 4500, \tTraining Loss: nan, \tValidation Loss: nan\n",
            "\n",
            "Epochs: 5000, \tTraining Loss: nan, \tValidation Loss: nan\n",
            "\n",
            "Learning rate of 0.01\n",
            "\n",
            "Epochs: 500, \tTraining Loss: nan, \tValidation Loss: nan\n",
            "\n",
            "Epochs: 1000, \tTraining Loss: nan, \tValidation Loss: nan\n",
            "\n",
            "Epochs: 1500, \tTraining Loss: nan, \tValidation Loss: nan\n",
            "\n",
            "Epochs: 2000, \tTraining Loss: nan, \tValidation Loss: nan\n",
            "\n",
            "Epochs: 2500, \tTraining Loss: nan, \tValidation Loss: nan\n",
            "\n",
            "Epochs: 3000, \tTraining Loss: nan, \tValidation Loss: nan\n",
            "\n",
            "Epochs: 3500, \tTraining Loss: nan, \tValidation Loss: nan\n",
            "\n",
            "Epochs: 4000, \tTraining Loss: nan, \tValidation Loss: nan\n",
            "\n",
            "Epochs: 4500, \tTraining Loss: nan, \tValidation Loss: nan\n",
            "\n",
            "Epochs: 5000, \tTraining Loss: nan, \tValidation Loss: nan\n",
            "\n",
            "Learning rate of 0.001\n",
            "\n",
            "Epochs: 500, \tTraining Loss: nan, \tValidation Loss: nan\n",
            "\n",
            "Epochs: 1000, \tTraining Loss: nan, \tValidation Loss: nan\n",
            "\n",
            "Epochs: 1500, \tTraining Loss: nan, \tValidation Loss: nan\n",
            "\n",
            "Epochs: 2000, \tTraining Loss: nan, \tValidation Loss: nan\n",
            "\n",
            "Epochs: 2500, \tTraining Loss: nan, \tValidation Loss: nan\n",
            "\n",
            "Epochs: 3000, \tTraining Loss: nan, \tValidation Loss: nan\n",
            "\n",
            "Epochs: 3500, \tTraining Loss: nan, \tValidation Loss: nan\n",
            "\n",
            "Epochs: 4000, \tTraining Loss: nan, \tValidation Loss: nan\n",
            "\n",
            "Epochs: 4500, \tTraining Loss: nan, \tValidation Loss: nan\n",
            "\n",
            "Epochs: 5000, \tTraining Loss: nan, \tValidation Loss: nan\n",
            "\n",
            "Learning rate of 0.0001\n",
            "\n",
            "Epochs: 500, \tTraining Loss: 9.739300, \tValidation Loss: 17.097195\n",
            "\n",
            "Epochs: 1000, \tTraining Loss: 7.981462, \tValidation Loss: 14.159407\n",
            "\n",
            "Epochs: 1500, \tTraining Loss: 6.738412, \tValidation Loss: 11.907084\n",
            "\n",
            "Epochs: 2000, \tTraining Loss: 5.858914, \tValidation Loss: 10.167202\n",
            "\n",
            "Epochs: 2500, \tTraining Loss: 5.236163, \tValidation Loss: 8.813042\n",
            "\n",
            "Epochs: 3000, \tTraining Loss: 4.794730, \tValidation Loss: 7.751313\n",
            "\n",
            "Epochs: 3500, \tTraining Loss: 4.481354, \tValidation Loss: 6.912921\n",
            "\n",
            "Epochs: 4000, \tTraining Loss: 4.258415, \tValidation Loss: 6.246388\n",
            "\n",
            "Epochs: 4500, \tTraining Loss: 4.099348, \tValidation Loss: 5.713089\n",
            "\n",
            "Epochs: 5000, \tTraining Loss: 3.985393, \tValidation Loss: 5.283872\n",
            "\n",
            "Adam Optimizers:\n",
            "\n",
            "Learning rate of 0.1\n",
            "\n",
            "Epochs: 500, \tTraining Loss: 2.829209, \tValidation Loss: 2.949684\n",
            "\n",
            "Epochs: 1000, \tTraining Loss: 2.413299, \tValidation Loss: 3.040505\n",
            "\n",
            "Epochs: 1500, \tTraining Loss: 2.127028, \tValidation Loss: 3.162935\n",
            "\n",
            "Epochs: 2000, \tTraining Loss: 1.996344, \tValidation Loss: 3.280770\n",
            "\n",
            "Epochs: 2500, \tTraining Loss: 1.957312, \tValidation Loss: 3.363850\n",
            "\n",
            "Epochs: 3000, \tTraining Loss: 1.950207, \tValidation Loss: 3.406308\n",
            "\n",
            "Epochs: 3500, \tTraining Loss: 1.949501, \tValidation Loss: 3.421526\n",
            "\n",
            "Epochs: 4000, \tTraining Loss: 1.949468, \tValidation Loss: 3.425117\n",
            "\n",
            "Epochs: 4500, \tTraining Loss: 1.949467, \tValidation Loss: 3.425634\n",
            "\n",
            "Epochs: 5000, \tTraining Loss: 1.949468, \tValidation Loss: 3.425676\n",
            "\n",
            "Learning rate of 0.01\n",
            "\n",
            "Epochs: 500, \tTraining Loss: 5.644572, \tValidation Loss: 9.987473\n",
            "\n",
            "Epochs: 1000, \tTraining Loss: 3.880472, \tValidation Loss: 6.256372\n",
            "\n",
            "Epochs: 1500, \tTraining Loss: 3.205243, \tValidation Loss: 4.127348\n",
            "\n",
            "Epochs: 2000, \tTraining Loss: 3.031568, \tValidation Loss: 3.258771\n",
            "\n",
            "Epochs: 2500, \tTraining Loss: 2.950874, \tValidation Loss: 3.003446\n",
            "\n",
            "Epochs: 3000, \tTraining Loss: 2.865278, \tValidation Loss: 2.962006\n",
            "\n",
            "Epochs: 3500, \tTraining Loss: 2.765212, \tValidation Loss: 2.971608\n",
            "\n",
            "Epochs: 4000, \tTraining Loss: 2.651842, \tValidation Loss: 2.992123\n",
            "\n",
            "Epochs: 4500, \tTraining Loss: 2.528666, \tValidation Loss: 3.019254\n",
            "\n",
            "Epochs: 5000, \tTraining Loss: 2.401500, \tValidation Loss: 3.053764\n",
            "\n",
            "Learning rate of 0.001\n",
            "\n",
            "Epochs: 500, \tTraining Loss: 103.274376, \tValidation Loss: 112.835251\n",
            "\n",
            "Epochs: 1000, \tTraining Loss: 11.846718, \tValidation Loss: 24.092819\n",
            "\n",
            "Epochs: 1500, \tTraining Loss: 7.227252, \tValidation Loss: 13.544628\n",
            "\n",
            "Epochs: 2000, \tTraining Loss: 6.920773, \tValidation Loss: 12.274786\n",
            "\n",
            "Epochs: 2500, \tTraining Loss: 6.601305, \tValidation Loss: 11.697165\n",
            "\n",
            "Epochs: 3000, \tTraining Loss: 6.224461, \tValidation Loss: 11.039568\n",
            "\n",
            "Epochs: 3500, \tTraining Loss: 5.798186, \tValidation Loss: 10.272593\n",
            "\n",
            "Epochs: 4000, \tTraining Loss: 5.337636, \tValidation Loss: 9.408640\n",
            "\n",
            "Epochs: 4500, \tTraining Loss: 4.865658, \tValidation Loss: 8.472567\n",
            "\n",
            "Epochs: 5000, \tTraining Loss: 4.411028, \tValidation Loss: 7.501586\n",
            "\n",
            "Learning rate of 0.0001\n",
            "\n",
            "Epochs: 500, \tTraining Loss: 598.552979, \tValidation Loss: 487.031372\n",
            "\n",
            "Epochs: 1000, \tTraining Loss: 507.017792, \tValidation Loss: 420.716919\n",
            "\n",
            "Epochs: 1500, \tTraining Loss: 425.786499, \tValidation Loss: 361.250305\n",
            "\n",
            "Epochs: 2000, \tTraining Loss: 353.898651, \tValidation Loss: 307.992065\n",
            "\n",
            "Epochs: 2500, \tTraining Loss: 290.569855, \tValidation Loss: 260.422760\n",
            "\n",
            "Epochs: 3000, \tTraining Loss: 235.155380, \tValidation Loss: 218.120071\n",
            "\n",
            "Epochs: 3500, \tTraining Loss: 187.113937, \tValidation Loss: 180.735367\n",
            "\n",
            "Epochs: 4000, \tTraining Loss: 145.974686, \tValidation Loss: 147.973618\n",
            "\n",
            "Epochs: 4500, \tTraining Loss: 111.305809, \tValidation Loss: 119.572929\n",
            "\n",
            "Epochs: 5000, \tTraining Loss: 82.687714, \tValidation Loss: 95.288818\n",
            "\n",
            "Epochs: 500, \tTraining Loss: 7.240819, \tValidation Loss: 12.349181\n",
            "\n",
            "Epochs: 1000, \tTraining Loss: 3.496157, \tValidation Loss: 6.959393\n",
            "\n",
            "Epochs: 1500, \tTraining Loss: 2.856551, \tValidation Loss: 5.469591\n",
            "\n",
            "Epochs: 2000, \tTraining Loss: 2.747300, \tValidation Loss: 4.979897\n",
            "\n",
            "Epochs: 2500, \tTraining Loss: 2.728640, \tValidation Loss: 4.799026\n",
            "\n",
            "Epochs: 3000, \tTraining Loss: 2.725453, \tValidation Loss: 4.727962\n",
            "\n",
            "Epochs: 3500, \tTraining Loss: 2.724909, \tValidation Loss: 4.699204\n",
            "\n",
            "Epochs: 4000, \tTraining Loss: 2.724816, \tValidation Loss: 4.687441\n",
            "\n",
            "Epochs: 4500, \tTraining Loss: 2.724800, \tValidation Loss: 4.682582\n",
            "\n",
            "Epochs: 5000, \tTraining Loss: 2.724797, \tValidation Loss: 4.680604\n",
            "\n",
            "Epochs: 500, \tTraining Loss: 9.739300, \tValidation Loss: 17.097195\n",
            "\n",
            "Epochs: 1000, \tTraining Loss: 7.981462, \tValidation Loss: 14.159407\n",
            "\n",
            "Epochs: 1500, \tTraining Loss: 6.738412, \tValidation Loss: 11.907084\n",
            "\n",
            "Epochs: 2000, \tTraining Loss: 5.858914, \tValidation Loss: 10.167202\n",
            "\n",
            "Epochs: 2500, \tTraining Loss: 5.236163, \tValidation Loss: 8.813042\n",
            "\n",
            "Epochs: 3000, \tTraining Loss: 4.794730, \tValidation Loss: 7.751313\n",
            "\n",
            "Epochs: 3500, \tTraining Loss: 4.481354, \tValidation Loss: 6.912921\n",
            "\n",
            "Epochs: 4000, \tTraining Loss: 4.258415, \tValidation Loss: 6.246388\n",
            "\n",
            "Epochs: 4500, \tTraining Loss: 4.099348, \tValidation Loss: 5.713089\n",
            "\n",
            "Epochs: 5000, \tTraining Loss: 3.985393, \tValidation Loss: 5.283872\n",
            "\n"
          ]
        },
        {
          "output_type": "display_data",
          "data": {
            "text/plain": [
              "<Figure size 640x480 with 1 Axes>"
            ],
            "image/png": "[encoded data removed]"
          },
          "metadata": {}
        }
      ]
    }
  ]
}